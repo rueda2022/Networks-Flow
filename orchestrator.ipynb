{
 "cells": [
  {
   "cell_type": "code",
   "execution_count": 1,
   "id": "05fa3e9a-e524-4e9f-8694-69cebe977594",
   "metadata": {},
   "outputs": [],
   "source": [
    "%%capture\n",
    "!pip install papermill"
   ]
  },
  {
   "cell_type": "code",
   "execution_count": 2,
   "id": "b41e5965-3474-431a-82e7-f4303403ba32",
   "metadata": {},
   "outputs": [],
   "source": [
    "import ipywidgets as widgets\n",
    "import papermill as pm\n",
    "\n",
    "from IPython.display import display"
   ]
  },
  {
   "cell_type": "code",
   "execution_count": 3,
   "id": "c289f187-3cec-45ac-a7f0-d2bb47cc01ba",
   "metadata": {},
   "outputs": [],
   "source": [
    "dict_names = {1: 'Especial', 2: 'Pradera UPB FS', 3: 'PANZENU', 5: 'DORADO', 6: 'KM30',\n",
    "        7: 'SANTANDER', 8: 'TAMBO CIRCUNVALAR', 9: 'MOGAMBO 22', 12: '6 DE MARZO',\n",
    "        13: 'CARRIZAL', 17: 'PRADERA 27', 18: 'Furatena', 20: 'KM 15', 21: 'SANTA LUCIA',\n",
    "        24: 'TERMINAL - AEROPUERTO', 26: 'RANCHO GRANDE', 27: 'SABANAL', 34: 'LETICIA',\n",
    "        36: 'AGUAS VIVAS', 37: 'CAÑO VIEJO', 97: 'Auditorias RE'}\n"
   ]
  },
  {
   "cell_type": "code",
   "execution_count": 4,
   "id": "a6e75f0d-685e-4757-9ced-42587f57b70d",
   "metadata": {},
   "outputs": [
    {
     "data": {
      "application/vnd.jupyter.widget-view+json": {
       "model_id": "f03321c9d49e48d9b3511f62b2eb3658",
       "version_major": 2,
       "version_minor": 0
      },
      "text/plain": [
       "SelectMultiple(description='Rutas:', options=('Especial', 'Pradera UPB FS', 'PANZENU', 'DORADO', 'KM30', 'SANT…"
      ]
     },
     "metadata": {},
     "output_type": "display_data"
    },
    {
     "data": {
      "application/vnd.jupyter.widget-view+json": {
       "model_id": "01019bb6d29a42f4b61d8edbc2b6afc0",
       "version_major": 2,
       "version_minor": 0
      },
      "text/plain": [
       "BoundedIntText(value=12, description='# Paradas', max=30)"
      ]
     },
     "metadata": {},
     "output_type": "display_data"
    },
    {
     "data": {
      "application/vnd.jupyter.widget-view+json": {
       "model_id": "2d36feb67a58458bbca8bd032f4b3acc",
       "version_major": 2,
       "version_minor": 0
      },
      "text/plain": [
       "IntSlider(value=32, continuous_update=False, description='# Buses:', max=50, min=1)"
      ]
     },
     "metadata": {},
     "output_type": "display_data"
    },
    {
     "data": {
      "application/vnd.jupyter.widget-view+json": {
       "model_id": "be26add46c3d48fe8a755a67dd3498b7",
       "version_major": 2,
       "version_minor": 0
      },
      "text/plain": [
       "IntSlider(value=50, continuous_update=False, description='# Pasajeros:', max=50, min=10)"
      ]
     },
     "metadata": {},
     "output_type": "display_data"
    },
    {
     "data": {
      "application/vnd.jupyter.widget-view+json": {
       "model_id": "5368b95faafd47d89b6972f555c0f90e",
       "version_major": 2,
       "version_minor": 0
      },
      "text/plain": [
       "IntSlider(value=15, continuous_update=False, description='minutos (t):', max=60, min=5, step=5)"
      ]
     },
     "metadata": {},
     "output_type": "display_data"
    }
   ],
   "source": [
    "lineas = widgets.SelectMultiple(\n",
    "    options=dict_names.values(),\n",
    "    description='Rutas:',\n",
    "    disabled=False,\n",
    "    button_style='', # 'success', 'info', 'warning', 'danger' or ''\n",
    "#     icons=['check'] * 3\n",
    ")\n",
    "nodos_ruta = widgets.BoundedIntText(\n",
    "    value=12,\n",
    "    min=0,\n",
    "    max=30,\n",
    "    step=1,\n",
    "    description='# Paradas',\n",
    "    disabled=False\n",
    ")\n",
    "buses_disponibles = widgets.IntSlider(\n",
    "    value=32,\n",
    "    min=1,\n",
    "    max=50,\n",
    "    step=1,\n",
    "    description='# Buses:',\n",
    "    disabled=False,\n",
    "    continuous_update=False,\n",
    "    orientation='horizontal',\n",
    "    readout=True,\n",
    "    readout_format='d'\n",
    ")\n",
    "capacidad_bus = widgets.IntSlider(\n",
    "    value=50,\n",
    "    min=10,\n",
    "    max=50,\n",
    "    step=1,\n",
    "    description='# Pasajeros:',\n",
    "    disabled=False,\n",
    "    continuous_update=False,\n",
    "    orientation='horizontal',\n",
    "    readout=True,\n",
    "    readout_format='d'\n",
    ")\n",
    "agrupacion_minutos = widgets.IntSlider(\n",
    "    value=15,\n",
    "    min=5,\n",
    "    max=60,\n",
    "    step=5,\n",
    "    description='minutos (t):',\n",
    "    disabled=False,\n",
    "    continuous_update=False,\n",
    "    orientation='horizontal',\n",
    "    readout=True,\n",
    "    readout_format='d'\n",
    ")\n",
    "\n",
    "\n",
    "display(lineas)\n",
    "display(nodos_ruta)\n",
    "display(buses_disponibles)\n",
    "display(capacidad_bus)\n",
    "display(agrupacion_minutos)"
   ]
  },
  {
   "cell_type": "code",
   "execution_count": 5,
   "id": "16464916-6692-4fa3-a1d4-cd0e4d4f49f2",
   "metadata": {},
   "outputs": [
    {
     "data": {
      "application/vnd.jupyter.widget-view+json": {
       "model_id": "d4d68e14f15f405685085c9355371b8c",
       "version_major": 2,
       "version_minor": 0
      },
      "text/plain": [
       "Button(description='Visualizar Escenario', style=ButtonStyle())"
      ]
     },
     "metadata": {},
     "output_type": "display_data"
    },
    {
     "data": {
      "application/vnd.jupyter.widget-view+json": {
       "model_id": "251850e52e6946caac5a2a489242e361",
       "version_major": 2,
       "version_minor": 0
      },
      "text/plain": [
       "Output()"
      ]
     },
     "metadata": {},
     "output_type": "display_data"
    },
    {
     "data": {
      "application/vnd.jupyter.widget-view+json": {
       "model_id": "e8655b5273724dab8a8abe9d4f535d92",
       "version_major": 2,
       "version_minor": 0
      },
      "text/plain": [
       "Button(description='Ejecutar Escenario', style=ButtonStyle())"
      ]
     },
     "metadata": {},
     "output_type": "display_data"
    },
    {
     "data": {
      "application/vnd.jupyter.widget-view+json": {
       "model_id": "bf88fc41d7ab49c989085a4172c2eeca",
       "version_major": 2,
       "version_minor": 0
      },
      "text/plain": [
       "Output()"
      ]
     },
     "metadata": {},
     "output_type": "display_data"
    }
   ],
   "source": [
    "button_previsualize = widgets.Button(description='Visualizar Escenario')\n",
    "button_excecute = widgets.Button(description='Ejecutar Escenario')\n",
    "output = widgets.Output()\n",
    "output_excecute = widgets.Output()\n",
    "\n",
    "display(button_previsualize, output)\n",
    "display(button_excecute, output_excecute)\n",
    "\n",
    "def previsualice_run(b):\n",
    "    with output:\n",
    "        print('======= Nuevo click Visualizar Escenario =======')\n",
    "        print(f'Lineas: {lineas.value}')\n",
    "        print(f'Num Nodos/linea: {nodos_ruta.value}')\n",
    "        print(f'Buses Disponibles : {buses_disponibles.value}')\n",
    "        print(f'Capacidad Bus: {capacidad_bus.value}')\n",
    "        print(f'Minutos (t): {agrupacion_minutos.value}')\n",
    "        print(f'Maximos periodos posibles (t_max): {int(960/agrupacion_minutos.value)}')\n",
    "\n",
    "def schedule_line(b):\n",
    "    with output:\n",
    "        print('>>> Ejecutando agendamiento con los siguientes parametros:')\n",
    "        print(f'Lineas: {lineas.value}')\n",
    "        print(f'Num Nodos/linea: {nodos_ruta.value}')\n",
    "        print(f'Buses Disponibles : {buses_disponibles.value}')\n",
    "        print(f'Capacidad Bus: {capacidad_bus.value}')\n",
    "        print(f'Minutos (t): {agrupacion_minutos.value}')\n",
    "        print(f'Maximos periodos posibles (t_max): {int(960/agrupacion_minutos.value)}')\n",
    "        print('Ejecutando por favor espere . . .')\n",
    "        for line_name in lineas.value:\n",
    "            print(f'--> {line_name}')\n",
    "            print('1. Inicio - pronostico de demanda ...')\n",
    "            pm.execute_notebook(\n",
    "               './data/template.ipynb',\n",
    "               f'./outputs/notebooks/demand/{line_name}.ipynb',\n",
    "               parameters=dict(\n",
    "                   ruta=line_name,\n",
    "                   agrupacion_minutos=agrupacion_minutos.value,\n",
    "                   buses_disponibles=buses_disponibles.value,\n",
    "                   capacidad_bus=capacidad_bus.value,\n",
    "                   t_max=int(960/agrupacion_minutos.value)\n",
    "               )\n",
    "            )\n",
    "            print('1. Fin - pronostico de demanda')\n",
    "            print('2. Inicio - ejecución modelo ...')\n",
    "            pm.execute_notebook(\n",
    "               './model/ani.ipynb',\n",
    "               f'./outputs/notebooks/model/{line_name}.ipynb',\n",
    "               parameters=dict(\n",
    "                   ruta=line_name,\n",
    "                   agrupacion_minutos=agrupacion_minutos.value,\n",
    "                   buses_disponibles=buses_disponibles.value,\n",
    "                   capacidad_bus=capacidad_bus.value,\n",
    "                   t_max=int(960/agrupacion_minutos.value)\n",
    "               )\n",
    "            )\n",
    "            print('2. Fin ejecución modelo - ejecución modelo ...')\n",
    "        print('Todo se ejecuto exitosamente!')\n",
    "        print('Para ver los notebooks ejecutados dirigase a ./outputs/model_notebooks')\n",
    "        \n",
    "        \n",
    "\n",
    "button_previsualize.on_click(previsualice_run)\n",
    "button_excecute.on_click(schedule_line)"
   ]
  },
  {
   "cell_type": "code",
   "execution_count": null,
   "id": "3bf179fa-4ba5-4942-9485-23806bce0425",
   "metadata": {},
   "outputs": [],
   "source": []
  }
 ],
 "metadata": {
  "kernelspec": {
   "display_name": "Python 3 (ipykernel)",
   "language": "python",
   "name": "python3"
  },
  "language_info": {
   "codemirror_mode": {
    "name": "ipython",
    "version": 3
   },
   "file_extension": ".py",
   "mimetype": "text/x-python",
   "name": "python",
   "nbconvert_exporter": "python",
   "pygments_lexer": "ipython3",
   "version": "3.11.10"
  }
 },
 "nbformat": 4,
 "nbformat_minor": 5
}
